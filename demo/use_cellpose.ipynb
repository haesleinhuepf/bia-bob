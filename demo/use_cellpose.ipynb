{
 "cells": [
  {
   "cell_type": "markdown",
   "id": "09394901-1864-4234-9b17-2f383dabc652",
   "metadata": {},
   "source": [
    "# Segmenting nuclei using deep learning\n",
    "In case deep-learning based segmentation libraries such as [cellpose](https://github.com/MouseLand/cellpose) are installed, `bob` can also use this libraries. \n",
    "You may have to give another hint requesting to use this library specifically, or \"use deep learning\" more generally."
   ]
  },
  {
   "cell_type": "code",
   "execution_count": 1,
   "id": "fc708df1-9e30-4daf-b186-d60d337a534a",
   "metadata": {},
   "outputs": [
    {
     "data": {
      "text/plain": [
       "'0.14.1'"
      ]
     },
     "execution_count": 1,
     "metadata": {},
     "output_type": "execute_result"
    }
   ],
   "source": [
    "from bia_bob import bob\n",
    "bob.__version__"
   ]
  },
  {
   "cell_type": "code",
   "execution_count": 2,
   "id": "70dd18f6-5f03-4995-9aa9-aec322e75af1",
   "metadata": {},
   "outputs": [
    {
     "data": {
      "text/markdown": [
       "I will load an image (`blobs.tif`), segment the bright blobs using deep learning, and then visualize the result using a curtain display.\n",
       "\n"
      ],
      "text/plain": [
       "<IPython.core.display.Markdown object>"
      ]
     },
     "metadata": {},
     "output_type": "display_data"
    }
   ],
   "source": [
    "%%bob \n",
    "load blobs.tif,\n",
    "segment the bright blobs as if they \n",
    "were nuclei using deep learning\n",
    "show the result using a curtain"
   ]
  },
  {
   "cell_type": "code",
   "execution_count": 3,
   "id": "eaeead9e-3061-49d0-8383-27b7b9735837",
   "metadata": {
    "tags": []
   },
   "outputs": [
    {
     "data": {
      "application/vnd.jupyter.widget-view+json": {
       "model_id": "9810ac9d0bae44ad9a61216f04ce25fc",
       "version_major": 2,
       "version_minor": 0
      },
      "text/plain": [
       "VBox(children=(HBox(children=(VBox(children=(ImageWidget(height=254, width=256),)),)), IntSlider(value=127, de…"
      ]
     },
     "execution_count": 3,
     "metadata": {},
     "output_type": "execute_result"
    }
   ],
   "source": [
    "from skimage.io import imread\n",
    "import stackview\n",
    "from cellpose import models\n",
    "import numpy as np\n",
    "\n",
    "# Step 1: Load the image\n",
    "filename = 'blobs.tif'\n",
    "image = imread(filename)\n",
    "\n",
    "# Step 2: Segment the bright blobs using Cellpose\n",
    "model = models.Cellpose(gpu=False, model_type='nuclei')\n",
    "masks, flows, styles, diams = model.eval(image, diameter=None, channels=[0, 0])\n",
    "\n",
    "# Step 3: Display the original image and the segmented image using a curtain display\n",
    "stackview.curtain(image, masks)"
   ]
  },
  {
   "cell_type": "code",
   "execution_count": 4,
   "id": "0da1cf3f-9917-40c9-87ef-6100b6b654db",
   "metadata": {},
   "outputs": [
    {
     "data": {
      "text/html": [
       "<table>\n",
       "<tr>\n",
       "<td>\n",
       "<img src=\"data:image/png;base64,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\"></img>\n",
       "</td>\n",
       "<td style=\"text-align: center; vertical-align: top;\">\n",
       "\n",
       "<table>\n",
       "<tr><td>shape</td><td>(254,&nbsp;256)</td></tr>\n",
       "<tr><td>dtype</td><td>uint32</td></tr>\n",
       "<tr><td>size</td><td>254.0 kB</td></tr>\n",
       "<tr><td>min</td><td>0</td></tr><tr><td>max</td><td>69</td></tr>\n",
       "</table>\n",
       "\n",
       "</td>\n",
       "</tr>\n",
       "</table>"
      ],
      "text/plain": [
       "StackViewNDArray([[0, 0, 0, ..., 5, 5, 5],\n",
       "                  [0, 0, 0, ..., 5, 5, 5],\n",
       "                  [0, 0, 0, ..., 5, 5, 5],\n",
       "                  ...,\n",
       "                  [0, 0, 0, ..., 0, 0, 0],\n",
       "                  [0, 0, 0, ..., 0, 0, 0],\n",
       "                  [0, 0, 0, ..., 0, 0, 0]], dtype=uint32)"
      ]
     },
     "execution_count": 4,
     "metadata": {},
     "output_type": "execute_result"
    }
   ],
   "source": [
    "stackview.insight(masks.astype(np.uint32))"
   ]
  },
  {
   "cell_type": "code",
   "execution_count": null,
   "id": "2cf6a8ea-0a9a-417e-b032-f9b53945928c",
   "metadata": {},
   "outputs": [],
   "source": []
  }
 ],
 "metadata": {
  "kernelspec": {
   "display_name": "Python 3 (ipykernel)",
   "language": "python",
   "name": "python3"
  },
  "language_info": {
   "codemirror_mode": {
    "name": "ipython",
    "version": 3
   },
   "file_extension": ".py",
   "mimetype": "text/x-python",
   "name": "python",
   "nbconvert_exporter": "python",
   "pygments_lexer": "ipython3",
   "version": "3.9.19"
  }
 },
 "nbformat": 4,
 "nbformat_minor": 5
}
