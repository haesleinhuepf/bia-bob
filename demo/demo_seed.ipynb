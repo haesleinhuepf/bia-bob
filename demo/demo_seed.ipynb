{
 "cells": [
  {
   "cell_type": "code",
   "execution_count": 1,
   "id": "99e42254-1367-4271-b74b-7f3d3cecfb5d",
   "metadata": {},
   "outputs": [],
   "source": [
    "from bia_bob import bob\n",
    "\n",
    "# randomish results\n",
    "bob.set_seed(None)"
   ]
  },
  {
   "cell_type": "code",
   "execution_count": 2,
   "id": "a75952ca-aa20-4dc7-a442-5a085b4fec22",
   "metadata": {},
   "outputs": [
    {
     "data": {
      "text/markdown": [
       "Step-by-step plan:\n",
       "1. Load the image \"blobs.tif\".\n",
       "2. Segment the image using a suitable algorithm.\n",
       "3. Show the original image and the segmented image side by side.\n",
       "\n",
       "Code:\n"
      ],
      "text/plain": [
       "<IPython.core.display.Markdown object>"
      ]
     },
     "metadata": {},
     "output_type": "display_data"
    }
   ],
   "source": [
    "%bob load blobs.tif, segment the image and show the result"
   ]
  },
  {
   "cell_type": "code",
   "execution_count": null,
   "id": "b0780830-35c9-4980-9467-d3200913ac04",
   "metadata": {},
   "outputs": [],
   "source": [
    "from skimage.io import imread\n",
    "from skimage.filters import threshold_otsu\n",
    "from skimage.segmentation import clear_border\n",
    "from skimage.measure import label\n",
    "import stackview\n",
    "\n",
    "# Load the image\n",
    "image = imread(\"blobs.tif\")\n",
    "\n",
    "# Convert the image to binary using Otsu's thresholding\n",
    "thresh = threshold_otsu(image)\n",
    "binary = image > thresh\n",
    "\n",
    "# Remove small artifacts and border objects\n",
    "cleared = clear_border(binary)\n",
    "\n",
    "# Label the connected components\n",
    "labels = label(cleared)\n",
    "\n",
    "# Display the original image and the segmented image side by side\n",
    "stackview.curtain(image, labels)"
   ]
  },
  {
   "cell_type": "code",
   "execution_count": 3,
   "id": "1e1c3599-8609-4263-b66d-fb94f0890e5e",
   "metadata": {},
   "outputs": [
    {
     "data": {
      "text/markdown": [],
      "text/plain": [
       "<IPython.core.display.Markdown object>"
      ]
     },
     "metadata": {},
     "output_type": "display_data"
    }
   ],
   "source": [
    "%bob load blobs.tif, segment the image and show the result"
   ]
  },
  {
   "cell_type": "code",
   "execution_count": null,
   "id": "b382ff14-1d9e-4f5f-8efe-a32e43c27ae5",
   "metadata": {},
   "outputs": [],
   "source": [
    "from skimage.io import imread\n",
    "from skimage.filters import threshold_otsu\n",
    "from skimage.segmentation import clear_border, label\n",
    "import stackview\n",
    "\n",
    "# Load the image\n",
    "image = imread(\"blobs.tif\")\n",
    "\n",
    "# Convert the image to grayscale if necessary\n",
    "if image.ndim > 2:\n",
    "    image = image[..., 0]\n",
    "\n",
    "# Apply thresholding to segment the image\n",
    "thresh = threshold_otsu(image)\n",
    "binary = image > thresh\n",
    "\n",
    "# Remove small artifacts and border objects\n",
    "cleared = clear_border(binary)\n",
    "\n",
    "# Label the connected components\n",
    "labels = label(cleared)\n",
    "\n",
    "# Display the original image and the segmented image side by side\n",
    "stackview.curtain(image, labels)"
   ]
  },
  {
   "cell_type": "code",
   "execution_count": 4,
   "id": "8acde80d-2961-4d13-8309-e332f7b65956",
   "metadata": {},
   "outputs": [
    {
     "data": {
      "text/markdown": [],
      "text/plain": [
       "<IPython.core.display.Markdown object>"
      ]
     },
     "metadata": {},
     "output_type": "display_data"
    }
   ],
   "source": [
    "%bob load blobs.tif, segment the image and show the result"
   ]
  },
  {
   "cell_type": "code",
   "execution_count": null,
   "id": "468df9d0-c2cd-406b-a3ef-fba9376e888f",
   "metadata": {},
   "outputs": [],
   "source": [
    "from skimage.io import imread\n",
    "from skimage.filters import threshold_otsu\n",
    "from skimage.measure import label\n",
    "import napari\n",
    "\n",
    "# Load the image\n",
    "image = imread(\"blobs.tif\")\n",
    "\n",
    "# Apply Otsu's thresholding to segment the image\n",
    "thresh = threshold_otsu(image)\n",
    "binary = image > thresh\n",
    "\n",
    "# Label the connected components\n",
    "labels = label(binary)\n",
    "\n",
    "# Create a Napari viewer\n",
    "viewer = napari.Viewer()\n",
    "\n",
    "# Add the original image and the segmented image to the viewer\n",
    "viewer.add_image(image, name='Original')\n",
    "viewer.add_labels(labels, name='Segmented')\n",
    "\n",
    "# Run the Napari viewer\n",
    "napari.run()"
   ]
  },
  {
   "cell_type": "code",
   "execution_count": 5,
   "id": "967c1d14-dd1a-407d-86b7-70d46164d97c",
   "metadata": {},
   "outputs": [],
   "source": [
    "# reproducible results\n",
    "bob.set_seed(42)"
   ]
  },
  {
   "cell_type": "code",
   "execution_count": 6,
   "id": "f05f1b42-2648-40f6-875d-08146d2c5993",
   "metadata": {},
   "outputs": [
    {
     "data": {
      "text/markdown": [],
      "text/plain": [
       "<IPython.core.display.Markdown object>"
      ]
     },
     "metadata": {},
     "output_type": "display_data"
    }
   ],
   "source": [
    "%bob load blobs.tif, segment the image and show the result"
   ]
  },
  {
   "cell_type": "code",
   "execution_count": null,
   "id": "7a0bb7df-5fa6-44eb-8308-87c677572192",
   "metadata": {},
   "outputs": [],
   "source": [
    "from skimage.io import imread\n",
    "import matplotlib.pyplot as plt\n",
    "from skimage.filters import threshold_otsu\n",
    "from skimage.segmentation import clear_border, label\n",
    "\n",
    "# Load the image\n",
    "image = imread(\"blobs.tif\")\n",
    "\n",
    "# Apply Otsu's thresholding to segment the image\n",
    "thresh = threshold_otsu(image)\n",
    "binary = image > thresh\n",
    "\n",
    "# Remove small artifacts and border objects\n",
    "cleared = clear_border(binary)\n",
    "\n",
    "# Label the connected components\n",
    "labels = label(cleared)\n",
    "\n",
    "# Display the original image and the segmented image\n",
    "fig, axes = plt.subplots(1, 2, figsize=(10, 5))\n",
    "axes[0].imshow(image, cmap='gray')\n",
    "axes[0].set_title('Original Image')\n",
    "axes[0].axis('off')\n",
    "axes[1].imshow(labels, cmap='viridis')\n",
    "axes[1].set_title('Segmented Image')\n",
    "axes[1].axis('off')\n",
    "plt.tight_layout()\n",
    "plt.show()"
   ]
  },
  {
   "cell_type": "code",
   "execution_count": 7,
   "id": "493faefd-f392-4a19-a1cb-121ae8b53727",
   "metadata": {},
   "outputs": [
    {
     "data": {
      "text/markdown": [],
      "text/plain": [
       "<IPython.core.display.Markdown object>"
      ]
     },
     "metadata": {},
     "output_type": "display_data"
    }
   ],
   "source": [
    "%bob load blobs.tif, segment the image and show the result"
   ]
  },
  {
   "cell_type": "code",
   "execution_count": null,
   "id": "df4d28a0-ea31-4ff4-9bfe-ea9214e4d981",
   "metadata": {},
   "outputs": [],
   "source": [
    "from skimage.io import imread\n",
    "from skimage.measure import label, regionprops\n",
    "import napari\n",
    "\n",
    "# Load the image\n",
    "image = imread(\"blobs.tif\")\n",
    "\n",
    "# Segment the image by thresholding\n",
    "threshold = 0.5  # Adjust this threshold value as needed\n",
    "binary_image = image > threshold\n",
    "\n",
    "# Label the individual regions\n",
    "labeled_image = label(binary_image)\n",
    "\n",
    "# Calculate region properties for each labeled region\n",
    "props = regionprops(labeled_image, intensity_image=image)\n",
    "\n",
    "# Create a Napari viewer\n",
    "viewer = napari.Viewer()\n",
    "\n",
    "# Add the original image as an image layer\n",
    "viewer.add_image(image, name='Original')\n",
    "\n",
    "# Add the labeled image as a labels layer\n",
    "viewer.add_labels(labeled_image, name='Segmented')\n",
    "\n",
    "# Add the region properties as a table layer\n",
    "props_data = [(prop.label, prop.area, prop.mean_intensity) for prop in props]\n",
    "props_columns = ['Label', 'Area', 'Mean Intensity']\n",
    "viewer.add_table(props_data, name='Region Properties', \n",
    "                 table_kwargs={'columns': props_columns})\n",
    "\n",
    "# Run the Napari viewer\n",
    "napari.run()  "
   ]
  },
  {
   "cell_type": "code",
   "execution_count": 8,
   "id": "6c476608-d7c4-41af-a96e-ea173a880f05",
   "metadata": {},
   "outputs": [
    {
     "data": {
      "text/markdown": [],
      "text/plain": [
       "<IPython.core.display.Markdown object>"
      ]
     },
     "metadata": {},
     "output_type": "display_data"
    }
   ],
   "source": [
    "%bob load blobs.tif, segment the image and show the result"
   ]
  },
  {
   "cell_type": "code",
   "execution_count": null,
   "id": "86c4dc50-ef9f-4ff6-aa22-a9981e24b8c4",
   "metadata": {},
   "outputs": [],
   "source": [
    "from skimage.io import imread\n",
    "from skimage.filters import threshold_otsu\n",
    "from skimage.measure import label, regionprops\n",
    "import napari\n",
    "\n",
    "# Load the image\n",
    "image = imread(\"blobs.tif\")\n",
    "\n",
    "# Calculate an optimal threshold using Otsu's method\n",
    "threshold_value = threshold_otsu(image)\n",
    "\n",
    "# Segment the image using the threshold\n",
    "binary_image = image > threshold_value\n",
    "\n",
    "# Label the connected components\n",
    "labeled_image = label(binary_image)\n",
    "\n",
    "# Calculate region properties\n",
    "region_props = regionprops(labeled_image, intensity_image=image)\n",
    "\n",
    "# Create a Napari viewer\n",
    "viewer = napari.Viewer()\n",
    "\n",
    "# Add the original image\n",
    "viewer.add_image(image, name='Original')\n",
    "\n",
    "# Add the segmented image\n",
    "viewer.add_labels(labeled_image, name='Segmented')\n",
    "\n",
    "# Add the region properties as a table\n",
    "table_data = []\n",
    "for prop in region_props:\n",
    "    table_data.append([prop.label, prop.area, prop.mean_intensity])\n",
    "viewer.add_table(table_data, name='Region Properties', \n",
    "                 table_colnames=['Label', 'Area', 'Mean Intensity'])\n",
    "\n",
    "# Show the viewer\n",
    "napari.run()"
   ]
  }
 ],
 "metadata": {
  "kernelspec": {
   "display_name": "Python 3 (ipykernel)",
   "language": "python",
   "name": "python3"
  },
  "language_info": {
   "codemirror_mode": {
    "name": "ipython",
    "version": 3
   },
   "file_extension": ".py",
   "mimetype": "text/x-python",
   "name": "python",
   "nbconvert_exporter": "python",
   "pygments_lexer": "ipython3",
   "version": "3.9.16"
  }
 },
 "nbformat": 4,
 "nbformat_minor": 5
}
