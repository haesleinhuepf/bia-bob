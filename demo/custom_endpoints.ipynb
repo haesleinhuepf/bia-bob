{
 "cells": [
  {
   "cell_type": "markdown",
   "id": "b1880ec0-dfa0-48c1-82ab-e8bc0c4f9dc1",
   "metadata": {},
   "source": [
    "# Using custom endpoints\n",
    "You can also access alternative endpoints for prompting, such as [ollama](https://ollama.com/) or the [blablador](https://login.helmholtz.de/oauth2-as/oauth2-authz-web-entry) service provided by the Helmholtz foundation."
   ]
  },
  {
   "cell_type": "code",
   "execution_count": 1,
   "id": "54151cc0-94f9-4d2b-ba26-3b4511eff07a",
   "metadata": {},
   "outputs": [
    {
     "data": {
      "text/plain": [
       "'0.14.0'"
      ]
     },
     "execution_count": 1,
     "metadata": {},
     "output_type": "execute_result"
    }
   ],
   "source": [
    "import os\n",
    "from bia_bob import bob\n",
    "bob.__version__"
   ]
  },
  {
   "cell_type": "markdown",
   "id": "678d1dfb-1830-4afe-9aed-7cbccf7ec6ce",
   "metadata": {},
   "source": [
    "## Ollama\n",
    "For using `bia-bob` with [Ollama](https://ollama.com) you need to run a local `ollama` instance. Therefore, download and install `ollama` and run `ollama serve` from a separate terminal window. You should also have downloaded `ollama run codellama` once in the past to make the following cell work."
   ]
  },
  {
   "cell_type": "code",
   "execution_count": 2,
   "id": "f72b7e11-de17-43fb-b6cd-c5f008b7f268",
   "metadata": {},
   "outputs": [],
   "source": [
    "bob.initialize(endpoint='ollama', model='codellama')"
   ]
  },
  {
   "cell_type": "markdown",
   "id": "8771f7ca-1ad4-46de-a902-2d8fb5ff8988",
   "metadata": {},
   "source": [
    "Afterwards, you can use `bob` as usual."
   ]
  },
  {
   "cell_type": "code",
   "execution_count": 3,
   "id": "46b8f1b4-8b64-40d2-8fc7-c510ef7c51c2",
   "metadata": {},
   "outputs": [
    {
     "data": {
      "text/markdown": [
       "```\n",
       "import cle\n",
       "from skimage import io\n",
       "import numpy as np\n",
       "\n",
       "# load image\n",
       "blobs = io.imread('blobs.tif', as_gray=True)\n",
       "\n",
       "# show image using matplotlib pyplot library\n",
       "io.imshow(blobs, cmap='gray')\n",
       "io.show()\n",
       "```\n",
       "This code imports the necessary libraries from scikit-image and NumPy. Then it loads an image named blobs.tif into a numpy array object. Finally, it shows the image using matplotlib pyplot library. The argument as_gray=True in io.imread tells the function to treat the image as grayscale, which is what we need since the image only has one color channel (grayscale).\n",
       "The show() method of imshow is used to display the image after it has been loaded into a numpy array object."
      ],
      "text/plain": [
       "<IPython.core.display.Markdown object>"
      ]
     },
     "metadata": {},
     "output_type": "display_data"
    }
   ],
   "source": [
    "%bob load blobs.tif and show it"
   ]
  },
  {
   "cell_type": "markdown",
   "id": "4c5d5028-3dbe-4e1e-8ff8-222d2bf2a0a2",
   "metadata": {},
   "source": [
    "## Blablador\n",
    "We now do this again for blablador."
   ]
  },
  {
   "cell_type": "code",
   "execution_count": 9,
   "id": "ed3f8372-bdfa-47aa-865a-aa9f9eb18600",
   "metadata": {},
   "outputs": [],
   "source": [
    "bob.initialize(\n",
    "    endpoint='blablador', \n",
    "    model='alias-large')"
   ]
  },
  {
   "cell_type": "code",
   "execution_count": 10,
   "id": "caa31fd3-172e-4c14-b010-ebf801108152",
   "metadata": {},
   "outputs": [
    {
     "data": {
      "text/markdown": [
       "  ```\n",
       "import numpy as np\n",
       "import matplotlib.pyplot as plt\n",
       "from skimage import io\n",
       "\n",
       "# Load the image\n",
       "img = io.imread('blobs.tif')\n",
       "\n",
       "# Display the image\n",
       "plt.imshow(img, cmap='gray')\n",
       "plt.show()\n",
       "```\n",
       "This code imports the `numpy` library, the `matplotlib.pyplot` library, and the `io` module from the `skimage` library. It then loads the image from the 'blobs.tif' file using `io.imread()`. The loaded image is then displayed using `plt.imshow()` with the `cmap='gray'` argument, which specifies the colormap as grayscale. The `plt.show()` function is used to display the image.\n",
       "\n"
      ],
      "text/plain": [
       "<IPython.core.display.Markdown object>"
      ]
     },
     "metadata": {},
     "output_type": "display_data"
    }
   ],
   "source": [
    "%bob load blobs.tif and show it"
   ]
  },
  {
   "cell_type": "markdown",
   "id": "beb38ec0-2762-4cb3-8863-540e3b759933",
   "metadata": {},
   "source": [
    "## Listing available models on blablador\n",
    "You can list available models like this:"
   ]
  },
  {
   "cell_type": "code",
   "execution_count": 6,
   "id": "91c3c1a7-fe42-4548-b621-3620dbc0d5d5",
   "metadata": {},
   "outputs": [
    {
     "data": {
      "text/plain": [
       "['1 - Mistral-7B-Instruct-v0.2 - the best option in general - fast and good',\n",
       " '2 - Mixtral-8x7B-Instruct-v0.1 Slower with higher quality',\n",
       " '3 - starcoder2-15b - A model for programming',\n",
       " '4 - CosmoSage answers your cosmology questions',\n",
       " '5 - GritLM-7B - For Text-Embeddings',\n",
       " '99 - LLAMA3 Long context ULTRA EXPERIMENTAL',\n",
       " 'alias-code',\n",
       " 'alias-embeddings',\n",
       " 'alias-experimental',\n",
       " 'alias-fast',\n",
       " 'alias-large',\n",
       " 'gpt-3.5-turbo',\n",
       " 'leo-mistral-hessianai-7b-chat',\n",
       " 'text-davinci-003',\n",
       " 'text-embedding-ada-002']"
      ]
     },
     "execution_count": 6,
     "metadata": {},
     "output_type": "execute_result"
    }
   ],
   "source": [
    "from bia_bob import available_models\n",
    "available_models(\n",
    "    endpoint='blablador'\n",
    ")"
   ]
  },
  {
   "cell_type": "code",
   "execution_count": null,
   "id": "c279309a-acf7-4328-9d0c-7889410898b3",
   "metadata": {},
   "outputs": [],
   "source": []
  }
 ],
 "metadata": {
  "kernelspec": {
   "display_name": "Python 3 (ipykernel)",
   "language": "python",
   "name": "python3"
  },
  "language_info": {
   "codemirror_mode": {
    "name": "ipython",
    "version": 3
   },
   "file_extension": ".py",
   "mimetype": "text/x-python",
   "name": "python",
   "nbconvert_exporter": "python",
   "pygments_lexer": "ipython3",
   "version": "3.9.19"
  }
 },
 "nbformat": 4,
 "nbformat_minor": 5
}
