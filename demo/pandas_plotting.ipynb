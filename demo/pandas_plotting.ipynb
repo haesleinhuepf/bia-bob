{
 "cells": [
  {
   "cell_type": "markdown",
   "id": "f9661021-bfa6-485a-a735-2b5d06006063",
   "metadata": {},
   "source": [
    "# Plotting\n",
    "In this notebook we ask Bob to draw a plot from a given pandas Dataframe. It uses seaborn under the hood."
   ]
  },
  {
   "cell_type": "code",
   "execution_count": 1,
   "id": "31c311c0-5a8f-4bd5-a6ff-a63d151f9b21",
   "metadata": {
    "tags": []
   },
   "outputs": [],
   "source": [
    "from bia_bob import bob"
   ]
  },
  {
   "cell_type": "code",
   "execution_count": 2,
   "id": "b9805072-55f2-4ad0-af18-d4b4ac4e7f42",
   "metadata": {
    "tags": []
   },
   "outputs": [],
   "source": [
    "import pandas as pd"
   ]
  },
  {
   "cell_type": "code",
   "execution_count": 3,
   "id": "6e590509-a159-4fa4-9ecf-1ad8ccb597ac",
   "metadata": {
    "tags": []
   },
   "outputs": [],
   "source": [
    "df = pd.DataFrame({\n",
    "    'x':[1,2,3,4,5,6],\n",
    "    'y':[1,1,2,2,3,4]\n",
    "})"
   ]
  },
  {
   "cell_type": "code",
   "execution_count": 4,
   "id": "e732fd57-73ec-4c34-85cc-fbd60bba4c32",
   "metadata": {
    "tags": []
   },
   "outputs": [],
   "source": [
    "bob.initialize(globals())"
   ]
  },
  {
   "cell_type": "code",
   "execution_count": 5,
   "id": "359d68fc-112f-4a5a-859b-db19eb6aa04e",
   "metadata": {
    "tags": []
   },
   "outputs": [
    {
     "data": {
      "text/plain": [
       "<Axes: xlabel='x', ylabel='y'>"
      ]
     },
     "metadata": {},
     "output_type": "display_data"
    },
    {
     "data": {
      "text/markdown": [
       "Here is the plot of x against y in the dataframe df."
      ],
      "text/plain": [
       "<IPython.core.display.Markdown object>"
      ]
     },
     "metadata": {},
     "output_type": "display_data"
    },
    {
     "data": {
      "image/png": "[encoded data removed]",
      "text/plain": [
       "<Figure size 640x480 with 1 Axes>"
      ]
     },
     "metadata": {},
     "output_type": "display_data"
    }
   ],
   "source": [
    "%bob Please draw a plot of x against y in the dataframe df."
   ]
  },
  {
   "cell_type": "code",
   "execution_count": null,
   "id": "c24112f8-afc6-40f3-af67-f5fd48ba758c",
   "metadata": {},
   "outputs": [],
   "source": []
  }
 ],
 "metadata": {
  "kernelspec": {
   "display_name": "Python 3 (ipykernel)",
   "language": "python",
   "name": "python3"
  },
  "language_info": {
   "codemirror_mode": {
    "name": "ipython",
    "version": 3
   },
   "file_extension": ".py",
   "mimetype": "text/x-python",
   "name": "python",
   "nbconvert_exporter": "python",
   "pygments_lexer": "ipython3",
   "version": "3.9.16"
  }
 },
 "nbformat": 4,
 "nbformat_minor": 5
}
