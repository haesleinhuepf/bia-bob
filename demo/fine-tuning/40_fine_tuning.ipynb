{
 "cells": [
  {
   "cell_type": "markdown",
   "id": "4e5023a8-beb3-4eff-904b-1a2f89aaee01",
   "metadata": {},
   "source": [
    "# Fine-tuning a model from questions and answers\n",
    "In this notebook we take a list of dictionaries in the following format to train a chatGPT3.5-based language model.\n",
    "\n",
    "```\n",
    "{\n",
    "    \"question:\":\"How can I open and visualize blobs.tif ?\",\n",
    "    \"answer\":\"You can do this like this:\\n\\n```python\\n```from skimage.io import imread\\nimport stackview\\n\\nimage = imread('blobs.tif')\\nstackview.insight(image)\"\n",
    "}\n",
    "```"
   ]
  },
  {
   "cell_type": "code",
   "execution_count": 1,
   "id": "c761af38-fdef-41ee-ac4a-f6945da665cd",
   "metadata": {},
   "outputs": [],
   "source": [
    "from bia_bob import FineTuningFromQuestionsAndAnswers, bob\n",
    "from bia_bob._utilities import load_jsonl_file\n",
    "import time"
   ]
  },
  {
   "cell_type": "code",
   "execution_count": 2,
   "id": "322a4a3b-e250-4426-861d-24e161b4ea67",
   "metadata": {},
   "outputs": [
    {
     "data": {
      "text/plain": [
       "[{'question': 'How can we calculate the average values along the first axis or ```axis=0``` in Python code?',\n",
       "  'answer': '\\nThis code imports the numpy library and creates two numpy arrays: image1 and image2. Image1 is initialized with all elements as 1, while image2 is filled with random numbers between 0 and 1. The np.mean function is then used on image2 with the axis parameter set to 0 to calculate the mean along each column of the array.\\n\\n```python\\n\\nimport numpy as np\\n\\nimage1 = np.ones((3,5))\\nimage1\\n\\nimage2 = np.random.random((3,5))\\nimage2\\n\\nnp.mean(image2, axis=0)\\n\\n```\\n'},\n",
       " {'question': 'How can I write Python code to apply statistical functions such as np.min(), np.max(), np.std(), np.median(), etc. on a Numpy array variable?',\n",
       "  'answer': '\\nThe code uses the numpy library in Python, which is imported as \"np\". The specific functionality of numpy is not shown in the given code.\\n\\n```python\\nThe necessary import statement for the given code is:\\n\\n\\nimport numpy as np\\n\\n\\nNo other import statements are necessary in this case.\\n```\\n'},\n",
       " {'question': 'How can we obtain the precise shape (dimensions) of an image using Python code?',\n",
       "  'answer': '\\nThis code reads an image file called \"blobs.tif\" using the imread function from the skimage.io module. Then, it prints the shape of the image.\\n\\n```python\\n\\nfrom skimage.io import imread\\n\\nimage = imread(\"../../data/blobs.tif\")\\n\\nimage.shape\\n\\n```\\n'}]"
      ]
     },
     "execution_count": 2,
     "metadata": {},
     "output_type": "execute_result"
    }
   ],
   "source": [
    "qa = load_jsonl_file(\"questions_answers.jsonl\") + \n",
    "     load_jsonl_file(\"cle_questions_answers.jsonl\")\n",
    "qa[:3]"
   ]
  },
  {
   "cell_type": "code",
   "execution_count": 3,
   "id": "c8c0c52d-740b-43b1-8fbe-474b21fae183",
   "metadata": {},
   "outputs": [],
   "source": [
    "fine_tuning = FineTuningFromQuestionsAndAnswers(qa)"
   ]
  },
  {
   "cell_type": "code",
   "execution_count": 4,
   "id": "57106ee3-b3f5-483b-ae87-8d8587f5970f",
   "metadata": {},
   "outputs": [],
   "source": [
    "fine_tuning.train()"
   ]
  },
  {
   "cell_type": "code",
   "execution_count": 5,
   "id": "afdb4be6-c8e1-4d8e-ae6b-3c5a4eee325c",
   "metadata": {},
   "outputs": [
    {
     "name": "stdout",
     "output_type": "stream",
     "text": [
      "Still training\n",
      "Still training\n",
      "Still training\n",
      "Still training\n",
      "Still training\n",
      "Still training\n",
      "Still training\n",
      "Still training\n",
      "Still training\n",
      "Still training\n"
     ]
    }
   ],
   "source": [
    "while not fine_tuning.is_trained():\n",
    "    print(\"Still training\")\n",
    "    time.sleep(100)"
   ]
  },
  {
   "cell_type": "code",
   "execution_count": 6,
   "id": "2263d5be-aa84-46ff-bea2-df0f9a28046a",
   "metadata": {},
   "outputs": [
    {
     "data": {
      "text/plain": [
       "'ft:gpt-3.5-turbo-0613:personal::8F51T395'"
      ]
     },
     "execution_count": 6,
     "metadata": {},
     "output_type": "execute_result"
    }
   ],
   "source": [
    "model_name = fine_tuning.trained_model_name()\n",
    "model_name"
   ]
  },
  {
   "cell_type": "code",
   "execution_count": null,
   "id": "915056ce-0449-45e5-98f5-cae46e9c96a9",
   "metadata": {},
   "outputs": [],
   "source": []
  }
 ],
 "metadata": {
  "kernelspec": {
   "display_name": "Python 3 (ipykernel)",
   "language": "python",
   "name": "python3"
  },
  "language_info": {
   "codemirror_mode": {
    "name": "ipython",
    "version": 3
   },
   "file_extension": ".py",
   "mimetype": "text/x-python",
   "name": "python",
   "nbconvert_exporter": "python",
   "pygments_lexer": "ipython3",
   "version": "3.9.16"
  }
 },
 "nbformat": 4,
 "nbformat_minor": 5
}
