{
 "cells": [
  {
   "cell_type": "markdown",
   "id": "4e5023a8-beb3-4eff-904b-1a2f89aaee01",
   "metadata": {},
   "source": [
    "# Fine-tuning a model from questions and answers\n",
    "In this notebook we take a list of dictionaries in the following format to train a chatGPT3.5-based language model.\n",
    "\n",
    "```\n",
    "{\n",
    "    \"question:\":\"How can I open and visualize blobs.tif ?\",\n",
    "    \"answer\":\"You can do this like this:\\n\\n```python\\n```from skimage.io import imread\\nimport stackview\\n\\nimage = imread('blobs.tif')\\nstackview.insight(image)\"\n",
    "}\n",
    "```"
   ]
  },
  {
   "cell_type": "code",
   "execution_count": 7,
   "id": "c761af38-fdef-41ee-ac4a-f6945da665cd",
   "metadata": {},
   "outputs": [],
   "source": [
    "from bia_bob import FineTuningFromQuestionsAndAnswers, bob\n",
    "from bia_bob._utilities import load_jsonl_file\n",
    "import time"
   ]
  },
  {
   "cell_type": "code",
   "execution_count": 3,
   "id": "322a4a3b-e250-4426-861d-24e161b4ea67",
   "metadata": {},
   "outputs": [
    {
     "data": {
      "text/plain": [
       "[{'question': 'How can we calculate the average over columns in Python using the first axis or ```axis=0```?',\n",
       "  'answer': '\\nThis code imports the numpy library and aliases it as \"np\".\\n\\n```python\\nimport numpy as np\\n```\\n'},\n",
       " {'question': 'How can statistical functions such as np.min(), np.max(), np.std(), and np.median() be applied to a Numpy array variable in Python?',\n",
       "  'answer': '\\nThe code is importing the numpy library and giving it the alias \"np\" to use in the code.\\n\\n```python\\nimport numpy as np\\n```\\n'},\n",
       " {'question': 'How can we obtain the precise shape (dimensions) of an image in Python before cropping it?',\n",
       "  'answer': '\\nThis code imports the skimage.io library and uses it to read an image from a file located at \"../../data/blobs.tif\". It then prints the shape of the image, which represents its dimensions.\\n\\n```python\\n\\nimport skimage.io\\n\\nimage = skimage.io.imread(\"../../data/blobs.tif\")\\nimage.shape\\n\\n```\\n'}]"
      ]
     },
     "execution_count": 3,
     "metadata": {},
     "output_type": "execute_result"
    }
   ],
   "source": [
    "qa = load_jsonl_file(\"questions_answers.jsonl\")\n",
    "qa[:3]"
   ]
  },
  {
   "cell_type": "code",
   "execution_count": 4,
   "id": "c8c0c52d-740b-43b1-8fbe-474b21fae183",
   "metadata": {},
   "outputs": [],
   "source": [
    "fine_tuning = FineTuningFromQuestionsAndAnswers(qa)"
   ]
  },
  {
   "cell_type": "code",
   "execution_count": 5,
   "id": "57106ee3-b3f5-483b-ae87-8d8587f5970f",
   "metadata": {},
   "outputs": [],
   "source": [
    "fine_tuning.train()"
   ]
  },
  {
   "cell_type": "code",
   "execution_count": 8,
   "id": "afdb4be6-c8e1-4d8e-ae6b-3c5a4eee325c",
   "metadata": {},
   "outputs": [
    {
     "name": "stdout",
     "output_type": "stream",
     "text": [
      "Still training\n",
      "Still training\n",
      "Still training\n",
      "Still training\n",
      "Still training\n",
      "Still training\n"
     ]
    }
   ],
   "source": [
    "while not fine_tuning.is_trained():\n",
    "    print(\"Still training\")\n",
    "    time.sleep(100)"
   ]
  },
  {
   "cell_type": "code",
   "execution_count": 9,
   "id": "2263d5be-aa84-46ff-bea2-df0f9a28046a",
   "metadata": {},
   "outputs": [
    {
     "data": {
      "text/plain": [
       "'ft:gpt-3.5-turbo-0613:personal::8F1Bh4nk'"
      ]
     },
     "execution_count": 9,
     "metadata": {},
     "output_type": "execute_result"
    }
   ],
   "source": [
    "model_name = fine_tuning.trained_model_name()\n",
    "model_name"
   ]
  },
  {
   "cell_type": "code",
   "execution_count": null,
   "id": "915056ce-0449-45e5-98f5-cae46e9c96a9",
   "metadata": {},
   "outputs": [],
   "source": []
  }
 ],
 "metadata": {
  "kernelspec": {
   "display_name": "Python 3 (ipykernel)",
   "language": "python",
   "name": "python3"
  },
  "language_info": {
   "codemirror_mode": {
    "name": "ipython",
    "version": 3
   },
   "file_extension": ".py",
   "mimetype": "text/x-python",
   "name": "python",
   "nbconvert_exporter": "python",
   "pygments_lexer": "ipython3",
   "version": "3.9.16"
  }
 },
 "nbformat": 4,
 "nbformat_minor": 5
}
