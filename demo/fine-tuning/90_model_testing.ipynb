{
 "cells": [
  {
   "cell_type": "markdown",
   "id": "e766a254-6220-4f99-9c8a-2c79cd21f9f3",
   "metadata": {},
   "source": [
    "# Test fine-tuned models\n",
    "This notebooks serves testing a fine-tuned model using a not-so-simple task."
   ]
  },
  {
   "cell_type": "code",
   "execution_count": null,
   "id": "48286f81-b7f8-4c8e-8bb7-7e8cb4d99d53",
   "metadata": {},
   "outputs": [],
   "source": [
    "from bia_bob import bob\n",
    "bob.initialize(\"ft:gpt-3.5-turbo-0613:personal::8F1Bh4nk\")\n",
    "\n",
    "#from bia_bob._machinery import Context\n",
    "#Context.verbose = True"
   ]
  },
  {
   "cell_type": "code",
   "execution_count": null,
   "id": "35c7e579-a8e1-4d65-adff-848686f409b9",
   "metadata": {},
   "outputs": [],
   "source": [
    "%%bob \n",
    "load the image c:/structure/data/blobs.tif,\n",
    "label the objects in it, \n",
    "expand the objects using Voronoi-Tesselation, and\n",
    "draw a mesh between the centroids of the segmented objects."
   ]
  },
  {
   "cell_type": "code",
   "execution_count": null,
   "id": "86a66fea-c11d-45ab-8e04-f02011d5cab7",
   "metadata": {},
   "outputs": [],
   "source": []
  }
 ],
 "metadata": {
  "kernelspec": {
   "display_name": "Python 3 (ipykernel)",
   "language": "python",
   "name": "python3"
  },
  "language_info": {
   "codemirror_mode": {
    "name": "ipython",
    "version": 3
   },
   "file_extension": ".py",
   "mimetype": "text/x-python",
   "name": "python",
   "nbconvert_exporter": "python",
   "pygments_lexer": "ipython3",
   "version": "3.9.16"
  }
 },
 "nbformat": 4,
 "nbformat_minor": 5
}
