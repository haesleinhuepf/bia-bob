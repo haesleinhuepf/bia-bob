{
 "cells": [
  {
   "cell_type": "markdown",
   "id": "2e3da9ae-74e1-4083-a793-39e083a84a29",
   "metadata": {},
   "source": [
    "# Manually curate text and code samples\n",
    "In this notebook we go through a list of text and code examples and manually select the reasonable examples."
   ]
  },
  {
   "cell_type": "code",
   "execution_count": 2,
   "id": "2e12c7f0-e5ff-418c-bd4d-bf78a09ae588",
   "metadata": {},
   "outputs": [],
   "source": [
    "import json\n",
    "import openai\n",
    "import time\n",
    "from bia_bob import bob\n",
    "import os\n",
    "from bia_bob._utilities import filter_out_blacklist, save_jsonl_file, load_jsonl_file\n",
    "import json\n",
    "import ipywidgets as widgets\n",
    "from IPython.display import display"
   ]
  },
  {
   "cell_type": "code",
   "execution_count": 14,
   "id": "06f77f29-4344-4498-a82a-bb854988b32c",
   "metadata": {},
   "outputs": [],
   "source": [
    "class Data:\n",
    "    training_data = load_jsonl_file(\"imports_text_code.jsonl\")\n",
    "    selected_training_data = []\n",
    "    current_index = 0"
   ]
  },
  {
   "cell_type": "markdown",
   "id": "6a476a54-1c64-47e7-8c8a-66872f7f24d2",
   "metadata": {},
   "source": [
    "## Manual selection\n",
    "In the following you will see a user interface that shows some text and code. If the text seems a reasonably good explanation of the code, press the \"KEEP\" button. Otherwise \"DROP\" the example. If the text fields both show \"DONE!\" you're done."
   ]
  },
  {
   "cell_type": "code",
   "execution_count": 16,
   "id": "aa1cad13-508b-45ba-821d-05088de72514",
   "metadata": {},
   "outputs": [
    {
     "name": "stdout",
     "output_type": "stream",
     "text": [
      "0\n"
     ]
    },
    {
     "data": {
      "application/vnd.jupyter.widget-view+json": {
       "model_id": "ec0484b62a7842d3a06e12b9c42cba45",
       "version_major": 2,
       "version_minor": 0
      },
      "text/plain": [
       "Textarea(value='## Numpy arrays\\n\\nAn image is just a two dimensional list of pixels values, in other words a …"
      ]
     },
     "metadata": {},
     "output_type": "display_data"
    },
    {
     "data": {
      "application/vnd.jupyter.widget-view+json": {
       "model_id": "d49ee2d8b03a4e79943711d786712877",
       "version_major": 2,
       "version_minor": 0
      },
      "text/plain": [
       "Textarea(value='raw_image_array = [\\n    [1, 0, 2, 1, 0, 0, 0],\\n    [0, 3, 1, 0, 1, 0, 1],\\n    [0, 5, 5, 1, …"
      ]
     },
     "metadata": {},
     "output_type": "display_data"
    },
    {
     "data": {
      "application/vnd.jupyter.widget-view+json": {
       "model_id": "f6af9b8fe6194b63b5f63af06cccd392",
       "version_major": 2,
       "version_minor": 0
      },
      "text/plain": [
       "Button(description='Keep', style=ButtonStyle())"
      ]
     },
     "metadata": {},
     "output_type": "display_data"
    },
    {
     "data": {
      "application/vnd.jupyter.widget-view+json": {
       "model_id": "e72c057a334c4befbf0688493747eb54",
       "version_major": 2,
       "version_minor": 0
      },
      "text/plain": [
       "Button(description='Drop', style=ButtonStyle())"
      ]
     },
     "metadata": {},
     "output_type": "display_data"
    }
   ],
   "source": [
    "\n",
    "\n",
    "# Create the multi-line text fields\n",
    "text_field1 = widgets.Textarea(description='Text Field 1:', rows=10)\n",
    "text_field2 = widgets.Textarea(description='Text Field 2:', rows=10)\n",
    "\n",
    "text_field1.layout.width = '600px'\n",
    "text_field2.layout.width = '600px'\n",
    "\n",
    "# Create the buttons\n",
    "button1 = widgets.Button(description='Keep')\n",
    "button2 = widgets.Button(description='Drop')\n",
    "\n",
    "# Define the event handlers for the buttons\n",
    "def button1_clicked(button):\n",
    "    print('Button 1 clicked')\n",
    "    \n",
    "    Data.selected_training_data.append(Data.training_data[Data.current_index])\n",
    "    \n",
    "    # Add your desired functionality here\n",
    "    button2_clicked(None)\n",
    "\n",
    "def button2_clicked(button):\n",
    "    print('Button 2 clicked')\n",
    "    Data.current_index += 1\n",
    "    fill_text_fields()\n",
    "\n",
    "# Assign the event handlers to the buttons\n",
    "button1.on_click(button1_clicked)\n",
    "button2.on_click(button2_clicked)\n",
    "\n",
    "def fill_text_fields():\n",
    "    print(Data.current_index)\n",
    "    if Data.current_index < len(training_data):\n",
    "        text_field1.value = Data.training_data[Data.current_index]['text'].strip()\n",
    "        text_field2.value = Data.training_data[Data.current_index]['code']\n",
    "    else:\n",
    "        text_field1.value = \"DONE!\"\n",
    "        text_field2.value = \"DONE!\"\n",
    "\n",
    "fill_text_fields()\n",
    "\n",
    "# Display the widgets\n",
    "display(text_field1, text_field2, button1, button2)"
   ]
  },
  {
   "cell_type": "markdown",
   "id": "e492a27c-7426-4ba2-9fdf-85125e224e6f",
   "metadata": {},
   "source": [
    "You can use the following code to store the result intermediately, but in particular when you're done."
   ]
  },
  {
   "cell_type": "code",
   "execution_count": 18,
   "id": "448e3bd6-d25b-4944-a30c-d12fe80d52c2",
   "metadata": {},
   "outputs": [],
   "source": [
    "save_jsonl_file(Data.selected_training_data, \"imports_text_code_selected.jsonl\")"
   ]
  }
 ],
 "metadata": {
  "kernelspec": {
   "display_name": "Python 3 (ipykernel)",
   "language": "python",
   "name": "python3"
  },
  "language_info": {
   "codemirror_mode": {
    "name": "ipython",
    "version": 3
   },
   "file_extension": ".py",
   "mimetype": "text/x-python",
   "name": "python",
   "nbconvert_exporter": "python",
   "pygments_lexer": "ipython3",
   "version": "3.9.16"
  }
 },
 "nbformat": 4,
 "nbformat_minor": 5
}
