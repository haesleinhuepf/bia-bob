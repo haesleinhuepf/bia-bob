{
 "cells": [
  {
   "cell_type": "code",
   "execution_count": 1,
   "id": "d8a54001-ef13-412d-95e1-2535e67e3ea6",
   "metadata": {
    "tags": []
   },
   "outputs": [],
   "source": [
    "from bia_bob._rag import HintVectorStore\n",
    "from bia_bob._machinery import Context\n",
    "from bia_bob import bob"
   ]
  },
  {
   "cell_type": "code",
   "execution_count": 2,
   "id": "cc9188d2-ab7a-4bbd-8b21-3bae2885a705",
   "metadata": {
    "tags": []
   },
   "outputs": [
    {
     "name": "stdout",
     "output_type": "stream",
     "text": [
      "Hint lines in System prompt: 191\n"
     ]
    },
    {
     "data": {
      "text/markdown": [
       "I will load the `blobs.tif` image using `aicsimageio`, segment the bright blobs, and display the result.\n",
       "\n"
      ],
      "text/plain": [
       "<IPython.core.display.Markdown object>"
      ]
     },
     "metadata": {},
     "output_type": "display_data"
    }
   ],
   "source": [
    "bob(\"\"\"\n",
    "Load blobs.tif using aicsimageio\n",
    "segment the bright blobs\n",
    "show the result\n",
    "\"\"\")"
   ]
  },
  {
   "cell_type": "code",
   "execution_count": 3,
   "id": "c24dedd1-8c41-411d-84df-5880636b59c1",
   "metadata": {
    "tags": []
   },
   "outputs": [],
   "source": [
    "Context.hint_store = HintVectorStore()"
   ]
  },
  {
   "cell_type": "code",
   "execution_count": 4,
   "id": "781c6beb-4239-4a13-bc58-7d55cf077d52",
   "metadata": {
    "tags": []
   },
   "outputs": [
    {
     "name": "stdout",
     "output_type": "stream",
     "text": [
      "Hint lines in System prompt: 26\n"
     ]
    },
    {
     "data": {
      "text/markdown": [
       "I will load the `blobs.tif` image using `aicsimageio`, segment the bright blobs, and display the result.\n",
       "\n"
      ],
      "text/plain": [
       "<IPython.core.display.Markdown object>"
      ]
     },
     "metadata": {},
     "output_type": "display_data"
    }
   ],
   "source": [
    "bob(\"\"\"\n",
    "Load blobs.tif using aicsimageio\n",
    "segment the bright blobs\n",
    "show the result\n",
    "\"\"\")"
   ]
  },
  {
   "cell_type": "code",
   "execution_count": null,
   "id": "bdb73805-6934-406a-8191-40fd8087778a",
   "metadata": {},
   "outputs": [],
   "source": []
  }
 ],
 "metadata": {
  "kernelspec": {
   "display_name": "Python 3 (ipykernel)",
   "language": "python",
   "name": "python3"
  },
  "language_info": {
   "codemirror_mode": {
    "name": "ipython",
    "version": 3
   },
   "file_extension": ".py",
   "mimetype": "text/x-python",
   "name": "python",
   "nbconvert_exporter": "python",
   "pygments_lexer": "ipython3",
   "version": "3.9.19"
  }
 },
 "nbformat": 4,
 "nbformat_minor": 5
}
