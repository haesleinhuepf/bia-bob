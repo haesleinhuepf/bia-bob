{
 "cells": [
  {
   "cell_type": "markdown",
   "id": "bd202239-a4bb-439a-b3b3-46f412e5f7af",
   "metadata": {},
   "source": [
    "# Modifying existing notebooks\n",
    "In this notebook we will ask bob to modify an existing notebook [mod_notebook.ipynb](mod_notebook.ipynb). Under the hood it will load the notebook file, erase all outputs, send the notebook to the large language model asking it to modify it as requested. Existing notebook files are never overwritten. Instead it will add a ´_1´ b the end of the filename."
   ]
  },
  {
   "cell_type": "code",
   "execution_count": 1,
   "id": "5c3720bb-daae-478f-a8e4-57c2a531e2e5",
   "metadata": {
    "tags": []
   },
   "outputs": [],
   "source": [
    "from bia_bob import bob"
   ]
  },
  {
   "cell_type": "code",
   "execution_count": 2,
   "id": "daf54e34-cef4-4cd4-a1c6-a59f8530cc2c",
   "metadata": {
    "tags": []
   },
   "outputs": [
    {
     "data": {
      "text/markdown": [
       "The modified notebook has been saved as [mod_notebook_1.ipynb](mod_notebook_1.ipynb)."
      ],
      "text/plain": [
       "<IPython.core.display.Markdown object>"
      ]
     },
     "metadata": {},
     "output_type": "display_data"
    }
   ],
   "source": [
    "%%bob modify the notebook `mod_notebook.ipynb` by \n",
    "adding explanatory markdown cells between the code cells. \n",
    "Also add a markdown cell at the very beginning that \n",
    "introduces the entire notebook shortly."
   ]
  },
  {
   "cell_type": "code",
   "execution_count": null,
   "id": "2d875bc1-0b70-43de-a20f-d38cd1ab1082",
   "metadata": {},
   "outputs": [],
   "source": []
  }
 ],
 "metadata": {
  "kernelspec": {
   "display_name": "Python 3 (ipykernel)",
   "language": "python",
   "name": "python3"
  },
  "language_info": {
   "codemirror_mode": {
    "name": "ipython",
    "version": 3
   },
   "file_extension": ".py",
   "mimetype": "text/x-python",
   "name": "python",
   "nbconvert_exporter": "python",
   "pygments_lexer": "ipython3",
   "version": "3.9.19"
  }
 },
 "nbformat": 4,
 "nbformat_minor": 5
}
